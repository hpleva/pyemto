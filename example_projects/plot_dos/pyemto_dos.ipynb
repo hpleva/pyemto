{
 "cells": [
  {
   "cell_type": "code",
   "execution_count": null,
   "metadata": {},
   "outputs": [],
   "source": [
    "%pylab inline\n",
    "figsize(18,10)\n",
    "from pyemto.emto_parser import Get_DOS"
   ]
  },
  {
   "cell_type": "markdown",
   "metadata": {},
   "source": [
    "# DOS for L10 FeNi alloy with long-range order\n",
    "\n",
    "Long-range order parameter:\n",
    "\n",
    "0.50 = Fully random alloy.<br>\n",
    "0.00 = Fully ordered alloy."
   ]
  },
  {
   "cell_type": "code",
   "execution_count": null,
   "metadata": {},
   "outputs": [],
   "source": [
    "random = Get_DOS('FeNi_0.50_dos.dos')\n",
    "order = Get_DOS('FeNi_0.00_dos.dos')"
   ]
  },
  {
   "cell_type": "code",
   "execution_count": null,
   "metadata": {
    "scrolled": false
   },
   "outputs": [],
   "source": [
    "for ar, ao in zip(random.atoms, order.atoms):\n",
    "    if ar.spin == 'up' and ao.spin == 'up':\n",
    "        if ar.label == 'Ni' and ao.label == 'Ni':\n",
    "            plot(ar.e, ar.dos, '--', label='random, site {}'.format(ar.sublattice))\n",
    "            plot(ao.e, ao.dos, label= 'order, site {}'.format(ao.sublattice))\n",
    "plt.title('Ni UP')\n",
    "plt.legend()\n",
    "plt.show()\n",
    "\n",
    "for ar, ao in zip(random.atoms, order.atoms):\n",
    "    if ar.spin == 'down' and ao.spin == 'down':\n",
    "        if ar.label == 'Ni' and ao.label == 'Ni':\n",
    "            plot(ar.e, ar.dos, '--', label='random, site {}'.format(ar.sublattice))\n",
    "            plot(ao.e, ao.dos, label= 'order, site {}'.format(ao.sublattice))\n",
    "plt.title('Ni DOWN')\n",
    "plt.legend()\n",
    "plt.show()\n",
    "\n",
    "for ar, ao in zip(random.atoms, order.atoms):\n",
    "    if ar.spin == 'up' and ao.spin == 'up':\n",
    "        if ar.label == 'Fe' and ao.label == 'Fe':\n",
    "            plot(ar.e, ar.dos, '--', label='random, site {}'.format(ar.sublattice))\n",
    "            plot(ao.e, ao.dos, label= 'order, site {}'.format(ao.sublattice))\n",
    "plt.title('Fe UP')\n",
    "plt.legend()\n",
    "plt.show()\n",
    "\n",
    "for ar, ao in zip(random.atoms, order.atoms):\n",
    "    if ar.spin == 'down' and ao.spin == 'down':\n",
    "        if ar.label == 'Fe' and ao.label == 'Fe':\n",
    "            plot(ar.e, ar.dos, '--', label='random, site {}'.format(ar.sublattice))\n",
    "            plot(ao.e, ao.dos, label= 'order, site {}'.format(ao.sublattice))\n",
    "plt.title('Fe DOWN')\n",
    "plt.legend()\n",
    "plt.show()"
   ]
  },
  {
   "cell_type": "code",
   "execution_count": null,
   "metadata": {},
   "outputs": [],
   "source": [
    "rNi = random.elems['Ni']\n",
    "rFe = random.elems['Fe']\n",
    "oNi = order.elems['Ni']\n",
    "oFe = order.elems['Fe']\n",
    "\n",
    "plot(rNi.e, rNi.ddos,'--', label='randon')\n",
    "plot(oNi.e, oNi.ddos, label='order')\n",
    "plt.title('Ni')\n",
    "plt.legend()\n",
    "plt.xlim(-0.5,0)\n",
    "plt.show()\n",
    "\n",
    "plot(rFe.e, rFe.ddos,'--', label='random')\n",
    "plot(oFe.e, oFe.ddos, label='order')\n",
    "plt.title('Fe')\n",
    "plt.legend()\n",
    "plt.xlim(-0.5,0)\n",
    "plt.show()"
   ]
  }
 ],
 "metadata": {
  "kernelspec": {
   "display_name": "Python 3",
   "language": "python",
   "name": "python3"
  },
  "language_info": {
   "codemirror_mode": {
    "name": "ipython",
    "version": 3
   },
   "file_extension": ".py",
   "mimetype": "text/x-python",
   "name": "python",
   "nbconvert_exporter": "python",
   "pygments_lexer": "ipython3",
   "version": "3.7.4"
  }
 },
 "nbformat": 4,
 "nbformat_minor": 2
}
